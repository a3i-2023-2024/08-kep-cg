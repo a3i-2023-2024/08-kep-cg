{
 "cells": [
  {
   "cell_type": "code",
   "execution_count": 1,
   "metadata": {
    "slideshow": {
     "slide_type": "skip"
    }
   },
   "outputs": [],
   "source": [
    "# ============================================================\n",
    "# Notebook setup\n",
    "# ============================================================\n",
    "\n",
    "%load_ext autoreload\n",
    "%autoreload 2\n",
    "\n",
    "# Control figure size\n",
    "interactive_figures = False\n",
    "if interactive_figures:\n",
    "    # Normal behavior\n",
    "    %matplotlib widget\n",
    "    figsize=(9, 3)\n",
    "else:\n",
    "    # PDF export behavior\n",
    "    figsize=(14, 4)\n",
    "\n",
    "from util import util"
   ]
  },
  {
   "cell_type": "markdown",
   "metadata": {
    "slideshow": {
     "slide_type": "slide"
    }
   },
   "source": [
    "# Kidney Paired Donation"
   ]
  },
  {
   "cell_type": "markdown",
   "metadata": {
    "slideshow": {
     "slide_type": "subslide"
    }
   },
   "source": [
    "## Kidney Paired Donation\n",
    "\n",
    "**Let's consider a problem from the healthcare domain**\n",
    "\n",
    "...And in particular _kidney transplantation_ from living donors\n",
    "\n",
    "* Incompatibility issues are major bottleneck, putting lives at risk\n",
    "* ...But sometimes we are in this kind of situation:\n",
    "\n",
    "<center><img src=\"assets/paired-donation.jpg\" width=\"500px\"/></center>\n",
    "\n",
    "* There are two willing donor, with incompatible recipients\n",
    "* ...But we can perform both transplants if we make an _exchange_!"
   ]
  },
  {
   "cell_type": "markdown",
   "metadata": {
    "slideshow": {
     "slide_type": "subslide"
    }
   },
   "source": [
    "## Kidney Paired Donation\n",
    "\n",
    "**Operationally, it works as follows:**\n",
    "\n",
    "* Recipient-donor pairs enter a _kidney paired donation program_\n",
    "* Periodically, the pairs must be _matched_ so as to enable transplantation\n",
    "* ...Then all planned surgeries are performed within a short time time frame"
   ]
  },
  {
   "cell_type": "markdown",
   "metadata": {},
   "source": [
    "**We can chain together more than two pairs**\n",
    "\n",
    "* E.g. $d_A \\rightarrow r_B, d_B \\rightarrow r_C, d_C \\rightarrow r_A$"
   ]
  },
  {
   "cell_type": "markdown",
   "metadata": {},
   "source": [
    "**...But usually not too many**\n",
    "\n",
    "* Surgeries are then performed in short order\n",
    "* ...Since even one withdrawn donor causes the whole exchange to fail"
   ]
  },
  {
   "cell_type": "markdown",
   "metadata": {
    "slideshow": {
     "slide_type": "subslide"
    }
   },
   "source": [
    "## Kidney Paired Donation\n",
    "\n",
    "**Managing a KPD program is _hard_**\n",
    "\n",
    "* The wait list for kidney transplats grew by [$> 44,000$ units](https://insights.unos.org/OPTN-metrics/) in 2023\n",
    "* They are not all for KPD, but the number is still large"
   ]
  },
  {
   "cell_type": "markdown",
   "metadata": {},
   "source": [
    "> **We cannot plan exchanges for such numbers by hand**<br>...But we could use a decision support tool"
   ]
  },
  {
   "cell_type": "markdown",
   "metadata": {},
   "source": [
    "**The matching problem is know as _Kidney Exchange Problem (KEP)_**\n",
    "\n",
    "* We want to choose groups of pairs for exchanges\n",
    "* ...And typically to maximize the number of transplants"
   ]
  },
  {
   "cell_type": "markdown",
   "metadata": {
    "slideshow": {
     "slide_type": "subslide"
    }
   },
   "source": [
    "## Problem Formulation\n",
    "\n",
    "**The KEP admits a graph-based formulation**\n",
    "\n",
    "<center><img src=\"assets/cgraph.png\" width=\"25%\"/></center> \n",
    "\n",
    "* Recipient-donor _pairs_ $(r_i, d_i)$ in the programs can be seen as _nodes_ in a graph\n",
    "* The graph contains an _arc_ from pair $i$ to pair $j$ iff the $d_i$ is _compatible_ with $r_j$\n",
    "* In the example there are four pairs\n",
    "* The donor in pair 1 is compatible with the recipient in pair 2, and so on"
   ]
  },
  {
   "cell_type": "markdown",
   "metadata": {
    "slideshow": {
     "slide_type": "subslide"
    }
   },
   "source": [
    "## Problem Formulation\n",
    "\n",
    "**In this representations, exchanges are _cycles_**\n",
    "\n",
    "<center><img src=\"assets/cgraph.png\" width=\"25%\"/></center>\n",
    "\n",
    "* For example $\\{1, 2, 3\\}$ defines a valid cycle\n",
    "* ...Corresponding to the exchange $d_1 \\rightarrow r_2, d_2 \\rightarrow r_3, d_3 \\rightarrow r_1$\n",
    "* ...And leading to 3 transplants"
   ]
  },
  {
   "cell_type": "markdown",
   "metadata": {
    "slideshow": {
     "slide_type": "subslide"
    }
   },
   "source": [
    "## Problem Formulation\n",
    "\n",
    "**This is enough to start defining a _combinatorial optimization problem_**\n",
    "\n",
    "* We want to select _groups of nodes_\n",
    "* No node can be _included in two groups_\n",
    "* _Too large_ groups/cycles should not be considered\n",
    "* Every group should _correspond to a cycle_\n",
    "* A group/cycle with _$n$ nodes lead to $n$ transplants_\n",
    "* We want to maximize the _total number of transplants_"
   ]
  },
  {
   "cell_type": "markdown",
   "metadata": {
    "slideshow": {
     "slide_type": "-"
    }
   },
   "source": [
    "> Now we do we turn this into a formal optimization model<br>**What do we start with?**"
   ]
  },
  {
   "cell_type": "markdown",
   "metadata": {
    "slideshow": {
     "slide_type": "subslide"
    }
   },
   "source": [
    "## A Guidline for Optimization Modeling\n",
    "\n",
    "**Whem building a CO model, this is usually a good approach:**\n",
    "\n",
    "* Start by choosing how to model the _decisions_\n",
    "* Then, consider the _constraints_ one by one\n",
    "  - Define how to model then with the chosen variables\n",
    "  - Introduce additional variable as needed\n",
    "* Then, do the same for the problem objective"
   ]
  },
  {
   "cell_type": "markdown",
   "metadata": {},
   "source": [
    "**During this process, it is very common to have difficulties**\n",
    "\n",
    "When that happens, try thinking about:\n",
    "\n",
    "* Alternative ways to formulte the constraints\n",
    "* ...But even more, _alternative ways_ to represent decisions"
   ]
  },
  {
   "cell_type": "markdown",
   "metadata": {
    "slideshow": {
     "slide_type": "subslide"
    }
   },
   "source": [
    "<div class=big>\n",
    "    <small>Our decision variables need to identify groups of nodes</small><br>\n",
    "    Can you think of some possible design choices?\n",
    "</div>"
   ]
  },
  {
   "cell_type": "markdown",
   "metadata": {
    "slideshow": {
     "slide_type": "subslide"
    }
   },
   "source": [
    "## Assignment-Base Formulation for the KEP\n",
    "\n",
    "**We could use binary variables $x_{ij}$**\n",
    "\n",
    "* $x_{ij} = 1$ iff node $i$ is part of the $j$-th cycle\n",
    "* For $m$ nodes, we can have at most $n = \\lfloor ^m/_2 \\rfloor$ cycles\n",
    "\n",
    "Now we can attempt to formulate the constraints"
   ]
  },
  {
   "cell_type": "markdown",
   "metadata": {
    "slideshow": {
     "slide_type": "fragment"
    }
   },
   "source": [
    "**No node can be included in two groups\":**\n",
    "\n",
    "$$\\begin{align}\n",
    "& \\sum_{j=1}^n x_{ij} \\leq 1 & \\forall i = 1..m\n",
    "\\end{align}$$"
   ]
  },
  {
   "cell_type": "markdown",
   "metadata": {
    "slideshow": {
     "slide_type": "subslide"
    }
   },
   "source": [
    "## Assignment-Base Formulation for the KEP\n",
    "\n",
    "**\"Too large groups/cycles should not be considered\":**\n",
    "\n",
    "$$\\begin{align}\n",
    "& \\sum_{i=1}^m x_{ij} \\leq C & \\forall j = 1..n\n",
    "\\end{align}$$"
   ]
  },
  {
   "cell_type": "markdown",
   "metadata": {
    "slideshow": {
     "slide_type": "fragment"
    }
   },
   "source": [
    "**\"Every group should _correspond to a cycle_\"**\n",
    "\n",
    "This is a tricky constraint to handle\n",
    "\n",
    "* In Mathematical programming, it is hard to find a compact model\n",
    "* Some Constraint Programming solver provide support for that\n",
    "* ...But even those are pretty hard to find"
   ]
  },
  {
   "cell_type": "markdown",
   "metadata": {
    "slideshow": {
     "slide_type": "subslide"
    }
   },
   "source": [
    "## Cycle Formulation\n",
    "\n",
    "**We'll circumvent the issue by _changing our decision variables_**\n",
    "\n",
    "We'll use a binary $x_j$ variable for every cycle in the graph\n",
    "\n",
    "* $x_{j} = 1$ iff the $j$-th cycle is chosen for surgery\n",
    "* With this formulation, groups are cycles by construction\n",
    "\n",
    "What about the other constraints?"
   ]
  },
  {
   "cell_type": "markdown",
   "metadata": {},
   "source": [
    "**\"No node can be included in two groups\":**\n",
    "\n",
    "$$\\begin{align}\n",
    "& \\sum_{j = 1}^n a_{ij} x_{ij} \\leq 1 & \\forall i = 1..m\n",
    "\\end{align}$$\n",
    "\n",
    "* $a_{ij} = 1$ if node $i$ is in cycle $j$\n",
    "* This is basically a mutual exclusion constraint"
   ]
  },
  {
   "cell_type": "markdown",
   "metadata": {
    "slideshow": {
     "slide_type": "subslide"
    }
   },
   "source": [
    "## Cycle Formulation\n",
    "\n",
    "**\"Too large groups/cycles should not be considered\":**\n",
    "\n",
    "* We do not need an equation for this\n",
    "* ...Since we can simply _avoid building variables_ for those cycles"
   ]
  },
  {
   "cell_type": "markdown",
   "metadata": {},
   "source": [
    "**\"We want to maximize the _total number of transplants_\":**\n",
    "\n",
    "$$\\begin{align}\n",
    "\\max \\ & \\sum_{j = 1}^n w_{j} x_{ij}\n",
    "\\end{align}$$\n",
    "\n",
    "* $w_j$ is the number of transplants associated to cycle $j$\n",
    "* This is our objetive function"
   ]
  },
  {
   "cell_type": "markdown",
   "metadata": {
    "slideshow": {
     "slide_type": "subslide"
    }
   },
   "source": [
    "## Cycle Formulation\n",
    "\n",
    "**Therefore, the _cycle formulation_ consists in the following Integer Program**\n",
    "\n",
    "$$\\begin{align}\n",
    "\\max & \\sum_{j=1}^n w_j x_j \\\\\n",
    "\\text{s.t. } & \\sum_{j=1}^n a_{ij} x_j \\leq 1 & \\forall i = 1..m \\\\\n",
    "& x_j \\in \\{0, 1\\} & \\forall j = 1..n\n",
    "\\end{align}$$\n",
    "\n",
    "* $m$ is the number of pairs, $n$ of cycles\n",
    "* $w_j$ is the weight of cycle $j$ (i.e. its number of nodes)\n",
    "* $a_{ij} = 1$ iff node $i$ belongs to cycle $j$ (and $a_{ij} = 0$ otherwise)\n",
    "* The maximum length constraint is handle when generating the set of cycles"
   ]
  },
  {
   "cell_type": "markdown",
   "metadata": {
    "slideshow": {
     "slide_type": "slide"
    }
   },
   "source": [
    "# Implementing the Cycle Formulation"
   ]
  },
  {
   "cell_type": "markdown",
   "metadata": {
    "slideshow": {
     "slide_type": "subslide"
    }
   },
   "source": [
    "## Generating the Benchmark\n",
    "\n",
    "**We will try to build a cycle formulation approach**\n",
    "\n",
    "...But first we need to obtain a benchmark (a dataset)\n",
    "\n",
    "* We will use synthetic data, obtain via the following function:"
   ]
  },
  {
   "cell_type": "code",
   "execution_count": 2,
   "metadata": {},
   "outputs": [],
   "source": [
    "pairs, arcs, aplus = util.generate_compatibility_graph(size=12, seed=2)"
   ]
  },
  {
   "cell_type": "markdown",
   "metadata": {},
   "source": [
    "* The function generates a fixed number of pairs\n",
    "* ...And their compatibility graph"
   ]
  },
  {
   "cell_type": "markdown",
   "metadata": {},
   "source": [
    "**The approach is designed to be reasonably realistic**\n",
    "\n",
    "In the real world, compatibility is determined by:\n",
    "\n",
    "* The blood type of the donor and the recipient\n",
    "* A number of very variable factors linked to their immune systems"
   ]
  },
  {
   "cell_type": "markdown",
   "metadata": {
    "slideshow": {
     "slide_type": "subslide"
    }
   },
   "source": [
    "## Generating the Benchmark \n",
    "\n",
    "**The generated pairs are associated to incompatible _blood types_**"
   ]
  },
  {
   "cell_type": "code",
   "execution_count": 3,
   "metadata": {
    "scrolled": true
   },
   "outputs": [
    {
     "data": {
      "text/plain": [
       "{0: pair(recipient='B+', donor='A+'),\n",
       " 1: pair(recipient='B+', donor='A+'),\n",
       " 2: pair(recipient='O+', donor='B+'),\n",
       " 3: pair(recipient='A+', donor='B+'),\n",
       " 4: pair(recipient='O+', donor='A+'),\n",
       " 5: pair(recipient='O+', donor='A-'),\n",
       " 6: pair(recipient='A-', donor='O+'),\n",
       " 7: pair(recipient='A+', donor='B+'),\n",
       " 8: pair(recipient='B+', donor='A+'),\n",
       " 9: pair(recipient='O+', donor='A+'),\n",
       " 10: pair(recipient='O+', donor='A+'),\n",
       " 11: pair(recipient='A-', donor='A+')}"
      ]
     },
     "execution_count": 3,
     "metadata": {},
     "output_type": "execute_result"
    }
   ],
   "source": [
    "pairs"
   ]
  },
  {
   "cell_type": "markdown",
   "metadata": {},
   "source": [
    "* Compatible pairs would not need to go through a KPD program\n",
    "* The blood type prevalence reflects the Italian distribution\n",
    "* In the pairs, we are neglecting all other factors that impact compatibility"
   ]
  },
  {
   "cell_type": "markdown",
   "metadata": {
    "slideshow": {
     "slide_type": "subslide"
    }
   },
   "source": [
    "## Generating the Benchmark\n",
    "\n",
    "**Arcs are first determined based on blood type compatibility**\n",
    "\n",
    "...Then a small (random) fraction of them (5%) is removed"
   ]
  },
  {
   "cell_type": "code",
   "execution_count": 4,
   "metadata": {},
   "outputs": [
    {
     "data": {
      "text/plain": [
       "{0: [3, 7],\n",
       " 1: [3, 7],\n",
       " 2: [0, 1, 8],\n",
       " 3: [0, 1, 8],\n",
       " 4: [3, 7],\n",
       " 5: [3, 6, 7, 11],\n",
       " 6: [0, 1, 2, 3, 4, 5, 7, 8, 9, 10],\n",
       " 7: [0, 1, 8],\n",
       " 8: [3, 7],\n",
       " 9: [3, 7],\n",
       " 10: [3, 7],\n",
       " 11: [3, 7]}"
      ]
     },
     "execution_count": 4,
     "metadata": {},
     "output_type": "execute_result"
    }
   ],
   "source": [
    "aplus"
   ]
  },
  {
   "cell_type": "markdown",
   "metadata": {},
   "source": [
    "* This simulated the other compatibility factors\n",
    "* ...Which are therefore accounted for at the graph level"
   ]
  },
  {
   "cell_type": "markdown",
   "metadata": {
    "slideshow": {
     "slide_type": "subslide"
    }
   },
   "source": [
    "## Enumerating Cycles\n",
    "\n",
    "**We enumerate cycles using simple Depth First Search with limited depth**\n",
    "\n",
    "```python\n",
    "def cycle_next(seq, nsteps, aplus, cycles, cap=None):\n",
    "    node = seq[-1]\n",
    "    successors = np.array(aplus[node]) # Consider all possible successors\n",
    "    np.random.shuffle(successors) # ...in randomized order\n",
    "    for dst in successors:\n",
    "        # Early exit if the capacity has been exceeded\n",
    "        if cap is not None and len(cycles) >= cap: return\n",
    "        if dst == seq[0] and dst == min(seq): # close the cycle\n",
    "            cycles.add(tuple(seq))\n",
    "        elif nsteps > 0 and dst not in seq:\n",
    "            cycle_next(seq+[dst], nsteps-1, aplus, cycles, cap) # recursive call\n",
    "```\n",
    "\n",
    "* Cycles are stored as tuples, which mean that the node ordering matters\n",
    "* ...So we take only the ordering that starts with the minimum index\n",
    "* There is a capacity parameter to limit the number of enumerated cycles"
   ]
  },
  {
   "cell_type": "markdown",
   "metadata": {
    "slideshow": {
     "slide_type": "subslide"
    }
   },
   "source": [
    "## Enumerating Cycles\n",
    "\n",
    "**We use a second function to start the enumeration from all possible sources**\n",
    "\n",
    "```python\n",
    "def find_all_cycles(aplus, max_length, cap=None, seed=42):\n",
    "    cycles = set()\n",
    "    roots = np.array(list(aplus.keys()))\n",
    "    np.random.seed(seed)\n",
    "    np.random.shuffle(roots)\n",
    "    for node in roots:\n",
    "        if cap is None or len(cycles) < cap:\n",
    "            cycle_next([node], max_length-1, aplus, cycles, cap)\n",
    "    return list(cycles)\n",
    "```\n",
    "\n",
    "**We can now enumerate the cycles for our graph (HP: max length of 4)**"
   ]
  },
  {
   "cell_type": "code",
   "execution_count": 5,
   "metadata": {},
   "outputs": [
    {
     "name": "stdout",
     "output_type": "stream",
     "text": [
      "[(0, 3), (0, 3, 1, 7), (0, 3, 8, 7), (0, 7), (0, 7, 1, 3), (0, 7, 8, 3), (1, 3), (1, 3, 8, 7), (1, 7), (1, 7, 8, 3), (3, 8), (5, 6), (7, 8)]\n"
     ]
    }
   ],
   "source": [
    "cycles = util.find_all_cycles(aplus, max_length=4, cap=None)\n",
    "print(sorted(cycles))"
   ]
  },
  {
   "cell_type": "markdown",
   "metadata": {
    "slideshow": {
     "slide_type": "subslide"
    }
   },
   "source": [
    "## Cycle Formulation - Implementation\n",
    "\n",
    "**Once we have all cycles, we can build the Cycle Formulation model**\n",
    "\n",
    "```python\n",
    "def cycle_formulation(pairs, cycles, tlim=None, verbose=1):\n",
    "    infinity, ncycles, npairs = slv.infinity(), len(cycles), len(pairs)\n",
    "    slv = pywraplp.Solver.CreateSolver('CBC') # Build the solver\n",
    "    cpp = {i:[] for i in range(npairs)} # group cycles by pair\n",
    "    for j, cycle in enumerate(cycles):\n",
    "        for i in cycle: cpp[i].append(j)\n",
    "    x = [slv.IntVar(0, 1, f'x_{j}') for j in range(ncycles)] # variables\n",
    "    for i in range(npairs): # constraints\n",
    "        slv.Add(sum(x[j] for j in cpp[i]) <= 1)\n",
    "    slv.Maximize(sum(len(c) * x[j] for j, c in enumerate(cycles))) # objective\n",
    "    if tlim is not None: # time limit\n",
    "        slv.SetTimeLimit(1000*tlim)\n",
    "    status = slv.Solve() # solve\n",
    "    # Extract results and return\n",
    "    ...\n",
    "```"
   ]
  },
  {
   "cell_type": "markdown",
   "metadata": {
    "slideshow": {
     "slide_type": "subslide"
    }
   },
   "source": [
    "## Cycle Formulation - Implementation\n",
    "\n",
    "**We use [the CBC solver](https://github.com/coin-or/Cbc), via [Google OR-Tools](https://developers.google.com/optimization)**\n",
    "\n",
    "```python\n",
    "def cycle_formulation(pairs, cycles, tlim=None, verbose=1):\n",
    "    infinity, ncycles, npairs = slv.infinity(), len(cycles), len(pairs)\n",
    "    slv = pywraplp.Solver.CreateSolver('CBC') # Build the solver\n",
    "    ...\n",
    "```\n",
    "\n",
    "* It's the fastest MIP solver with a fully permissive license\n",
    "\n",
    "**Variables are built with `IntVar`, constraints posted with `Add`**\n",
    "\n",
    "```python\n",
    "def cycle_formulation(pairs, cycles, tlim=None, verbose=1):\n",
    "    ...\n",
    "    x = [slv.IntVar(0, 1, f'x_{j}') for j in range(ncycles)] # variables\n",
    "    for i in range(npairs): # constraints\n",
    "        slv.Add(sum(x[j] for j in cpp[i]) <= 1)\n",
    "    ...\n",
    "```\n",
    "\n",
    "* The `cpp` dictionary contains cycles, grouped by the pair/node they use"
   ]
  },
  {
   "cell_type": "markdown",
   "metadata": {
    "slideshow": {
     "slide_type": "subslide"
    }
   },
   "source": [
    "## Cycle Formulation - Implementation\n",
    "\n",
    "**We set the objective with `Maximize` or `Minimize`**\n",
    "\n",
    "```python\n",
    "def cycle_formulation(pairs, cycles, tlim=None, verbose=1):\n",
    "    ...\n",
    "    slv.Maximize(sum(len(c) * x[j] for j, c in enumerate(cycles))) # objective\n",
    "    if tlim is not None: # time limit\n",
    "        slv.SetTimeLimit(1000*tlim)\n",
    "    ...\n",
    "```\n",
    "\n",
    "* Time limits are enforced with `SetTimeLimit`\n",
    "\n",
    "**We can now solve the cycle formulation:**"
   ]
  },
  {
   "cell_type": "code",
   "execution_count": 6,
   "metadata": {},
   "outputs": [
    {
     "name": "stdout",
     "output_type": "stream",
     "text": [
      "Solution time: 0.018 sec, objective value: 6.0 (optimal)\n",
      "{'x_1', 'x_2', 'x_8'}\n"
     ]
    }
   ],
   "source": [
    "pairs, arcs, aplus = util.generate_compatibility_graph(size=12, seed=2)\n",
    "cycles = util.find_all_cycles(aplus, max_length=4, cap=None)\n",
    "sol, tme, _ = util.cycle_formulation(pairs, cycles, tlim=10, verbose=1)\n",
    "print({k for k, v in sol.items() if v != 0 and k != 'objective'})"
   ]
  }
 ],
 "metadata": {
  "celltoolbar": "Slideshow",
  "kernelspec": {
   "display_name": "Python 3 (ipykernel)",
   "language": "python",
   "name": "python3"
  },
  "language_info": {
   "codemirror_mode": {
    "name": "ipython",
    "version": 3
   },
   "file_extension": ".py",
   "mimetype": "text/x-python",
   "name": "python",
   "nbconvert_exporter": "python",
   "pygments_lexer": "ipython3",
   "version": "3.11.6"
  },
  "rise": {
   "center": false,
   "enable_chalkboard": true,
   "transition": "fade"
  }
 },
 "nbformat": 4,
 "nbformat_minor": 4
}
