{
 "cells": [
  {
   "cell_type": "code",
   "execution_count": 8,
   "metadata": {
    "slideshow": {
     "slide_type": "skip"
    }
   },
   "outputs": [
    {
     "name": "stdout",
     "output_type": "stream",
     "text": [
      "The autoreload extension is already loaded. To reload it, use:\n",
      "  %reload_ext autoreload\n"
     ]
    }
   ],
   "source": [
    "# ============================================================\n",
    "# Notebook setup\n",
    "# ============================================================\n",
    "\n",
    "%load_ext autoreload\n",
    "%autoreload 2\n",
    "\n",
    "# Control figure size\n",
    "interactive_figures = False\n",
    "if interactive_figures:\n",
    "    # Normal behavior\n",
    "    %matplotlib widget\n",
    "    figsize=(9, 3)\n",
    "else:\n",
    "    # PDF export behavior\n",
    "    figsize=(14, 4)\n",
    "\n",
    "from util import util\n",
    "import numpy as np"
   ]
  },
  {
   "cell_type": "markdown",
   "metadata": {
    "slideshow": {
     "slide_type": "slide"
    }
   },
   "source": [
    "# Implementing Column Generation"
   ]
  },
  {
   "cell_type": "markdown",
   "metadata": {
    "slideshow": {
     "slide_type": "subslide"
    }
   },
   "source": [
    "## Implementing a CG Approach\n",
    "\n",
    "**We can now start implementing our CG approach**\n",
    "\n",
    "<center style=\"padding-top: 1em; padding-bottom: 1em\"><img src=\"assets/cg.png\" width=\"70%\"/></center>\n",
    "\n",
    "* We need to define how to solve the restricted _Master Problem_\n",
    "* ... And how to solve the _Pricing Problem_"
   ]
  },
  {
   "cell_type": "markdown",
   "metadata": {},
   "source": [
    "**We'll discover that this case study is not a trivial one**\n",
    "\n",
    "...But also that, with the right choices, it can be solved fast!"
   ]
  },
  {
   "cell_type": "markdown",
   "metadata": {
    "slideshow": {
     "slide_type": "subslide"
    }
   },
   "source": [
    "## Restricted Master Problem\n",
    "\n",
    "**Dealing with the restricted Master Problem is the easy part**\n",
    "\n",
    "...Since we can still rely on the cycle formulation:\n",
    "\n",
    "$$\\begin{align}\n",
    "\\min & - \\sum_{j \\in S} w_j x_j \\\\\n",
    "\\text{s.t. } & \\sum_{j \\in S} a_{ij} x_j \\leq 1 & \\forall i = 1..m \\\\\n",
    "& x_j \\geq 0 & \\forall j = 1..n\n",
    "\\end{align}$$\n",
    "\n",
    "Compared to the full formulation:\n",
    "\n",
    "* We restrict the summations\n",
    "* We switched the direction of optimization"
   ]
  },
  {
   "cell_type": "markdown",
   "metadata": {
    "slideshow": {
     "slide_type": "subslide"
    }
   },
   "source": [
    "## Restricted Master Problem\n",
    "\n",
    "**In th code:**\n",
    "\n",
    "* We add an option to relax all variables so that they are continuous\n",
    "* In which case, we use [the CLP solver](https://github.com/coin-or/Clp) instead of CBC\n",
    "* We switch optimization and the constraint direction\n",
    "* We add code to retrieve the dual multipliers"
   ]
  },
  {
   "cell_type": "markdown",
   "metadata": {},
   "source": [
    "**The resulting API is:**\n",
    "\n",
    "```python\n",
    "def cycle_formulation(pairs, cycles, tlim=None, relaxation=False, verbose=1):\n",
    "    ...\n",
    "```\n",
    "\n",
    "* The summations are restricted by just passing a subset of cycles"
   ]
  },
  {
   "cell_type": "markdown",
   "metadata": {
    "slideshow": {
     "slide_type": "subslide"
    }
   },
   "source": [
    "## Restricted Master Problem\n",
    "\n",
    "**Now, let's try to solve the LP**"
   ]
  },
  {
   "cell_type": "code",
   "execution_count": 16,
   "metadata": {},
   "outputs": [
    {
     "name": "stdout",
     "output_type": "stream",
     "text": [
      "Solution time: 0.000 sec, objective value: -6.0 (optimal)\n",
      "(0, 7, 8, 3)\n",
      "(5, 6)\n",
      "Dual multipliers: [0. 0. 0. 2. 0. 2. 0. 2. 0. 0. 0. 0.]\n"
     ]
    }
   ],
   "source": [
    "pairs, arcs, aplus = util.generate_compatibility_graph(size=12, seed=2)\n",
    "cycles = util.find_all_cycles(aplus, max_length=4, cap=None)\n",
    "sol, tme, duals = util.cycle_formulation(pairs, cycles, tlim=10, verbose=1, relaxation=True)\n",
    "for i, c in enumerate(cycles):\n",
    "    if sol[f'x_{i}'] == 1: print(c)\n",
    "print(f'Dual multipliers: {duals}')"
   ]
  },
  {
   "cell_type": "markdown",
   "metadata": {},
   "source": [
    "* We have one multiplier per constraint, i.e. one per graph node in our case\n",
    "* The non-zero $\\lambda$ are associated to nodes used by the selected cycles\n",
    "* ...Meaning that their associated constraints are tight\n",
    "* The cost is negative, since we have negated the original objective formula"
   ]
  },
  {
   "cell_type": "markdown",
   "metadata": {
    "slideshow": {
     "slide_type": "subslide"
    }
   },
   "source": [
    "## Pricing Problem\n",
    "\n",
    "**Our pricing problem formulation is:**\n",
    "\n",
    "$$\\begin{align}\n",
    "\\mathop{\\rm argmin} & \\sum_{i=1}^m y_i (- 1 + \\lambda_i^*) \\\\\n",
    "\\text{s.t. } & y \\text{ defines a cycle} \\\\\n",
    "& \\sum_{i=1}^m y_i \\leq C \\\\\n",
    "& y_i \\in \\{0, 1\\} & \\forall i = 1..m\n",
    "\\end{align}$$\n",
    "\n",
    "* We need to choose nodes that form a minimum weight cycle\n",
    "* ...Which makes this problem inconvenient to solve via LP or MILP\n",
    "\n",
    "**So we'll use instead a different approach**"
   ]
  },
  {
   "cell_type": "markdown",
   "metadata": {
    "slideshow": {
     "slide_type": "subslide"
    }
   },
   "source": [
    "## Constrained Minimum Cycle Weight \n",
    "\n",
    "**We will base our pricing algorithm on a _Time Unfolded_ version of our graph**\n",
    "\n",
    "<center style=\"padding-top: 1em; padding-bottom: 1em\"><img src=\"assets/tug0.png\" width=\"45%\"/></center>\n",
    "\n",
    "* An unfolded graph contains _one copy_ of each original node _per time unit_\n",
    "* In our case, time units correspond to possible cycle lengths "
   ]
  },
  {
   "cell_type": "markdown",
   "metadata": {
    "slideshow": {
     "slide_type": "subslide"
    }
   },
   "source": [
    "## Constrained Minimum Cycle Weight \n",
    "\n",
    "**We can use unfolding to account for one of our constraints**\n",
    "\n",
    "<center style=\"padding-top: 1em; padding-bottom: 1em\"><img src=\"assets/tug0.png\" width=\"45%\"/></center>\n",
    "\n",
    "* Our cycles can contain at most $C$ nodes (say $C = 4$)\n",
    "* For this reason, we will unfold $C+1$ times"
   ]
  },
  {
   "cell_type": "markdown",
   "metadata": {
    "slideshow": {
     "slide_type": "subslide"
    }
   },
   "source": [
    "## Constrained Minimum Cycle Weight \n",
    "\n",
    "**The time-unfolded graph is _layered_**\n",
    "\n",
    "<center style=\"padding-top: 1em; padding-bottom: 1em\"><img src=\"assets/tug1.png\" width=\"500px\"/></center>\n",
    "\n",
    "* There are no arcs between nodes associated to the same time unit\n",
    "* Arcs connect node associated to contiguous time units"
   ]
  },
  {
   "cell_type": "markdown",
   "metadata": {
    "slideshow": {
     "slide_type": "subslide"
    }
   },
   "source": [
    "<div class=big>\n",
    "    <small>Now we need to select nodes that form a cycle on the original graph</small><br>\n",
    "    How do we do that over the TUG?\n",
    "</div>"
   ]
  },
  {
   "cell_type": "markdown",
   "metadata": {
    "slideshow": {
     "slide_type": "fragment"
    }
   },
   "source": [
    "<center>Since the graph is acyclic, we can use _Dijkstra's algorithm_</center>"
   ]
  },
  {
   "cell_type": "markdown",
   "metadata": {
    "slideshow": {
     "slide_type": "subslide"
    }
   },
   "source": [
    "## Constrained Minimum Cycle Weight \n",
    "\n",
    "**We search for a _shortest path_, processing _one layer at a time_**\n",
    "\n",
    "<center style=\"padding-top: 1em; padding-bottom: 1em\"><img src=\"assets/tug2.png\" width=\"500px\"/></center>\n",
    "\n",
    "* We start at layer 1, from a given _root node_ (1, in the figure)\n",
    "* We consider all outgoing arcs\n",
    "* We _update the shortest path_ to the destination nodes as usual in Dijkstra's "
   ]
  },
  {
   "cell_type": "markdown",
   "metadata": {
    "slideshow": {
     "slide_type": "subslide"
    }
   },
   "source": [
    "## Constrained Minimum Cycle Weight \n",
    "\n",
    "**We then start from all visited nodes, and proceed as before**\n",
    "\n",
    "<center style=\"padding-top: 1em; padding-bottom: 1em\"><img src=\"assets/tug3.png\" width=\"500px\"/></center>\n",
    "\n",
    "* If we end up _visiting the root node again_, we have found a cycle\n",
    "* This is a shortest cycle including the root node, for the current length\n",
    "* We _store_ all these cycles (in this case, we store the cycle 1-4 for the path 1-4-1)"
   ]
  },
  {
   "cell_type": "markdown",
   "metadata": {
    "slideshow": {
     "slide_type": "subslide"
    }
   },
   "source": [
    "## Constrained Minimum Cycle Weight \n",
    "\n",
    "**Nodes that close a cycle count as non-visited**\n",
    "\n",
    "<center style=\"padding-top: 1em; padding-bottom: 1em\"><img src=\"assets/tug4.png\" width=\"500px\"/></center>\n",
    "\n",
    "* If we end up visiting a non-root node that is on the shortest path\n",
    "* ...Then we have found a path with a sub-cycles\n",
    "* We _do not store_ such paths (e.g., we store a cycle for 1-2-3-1, but not 1-2-3-2)"
   ]
  },
  {
   "cell_type": "markdown",
   "metadata": {
    "slideshow": {
     "slide_type": "subslide"
    }
   },
   "source": [
    "## Constrained Minimum Cycle Weight \n",
    "\n",
    "**We proceed until maximum length, or until no node is visited in the nest layer**\n",
    "\n",
    "<center style=\"padding-top: 1em; padding-bottom: 1em\"><img src=\"assets/tug4.png\" width=\"500px\"/></center>\n",
    "\n",
    "* Then we can restart from another root node\n",
    "* In the next restart, we can _ignore all arcs pointing to already considered roots_\n",
    "* ...Since all shortest cycles containing those nodes have already been found"
   ]
  },
  {
   "cell_type": "markdown",
   "metadata": {
    "slideshow": {
     "slide_type": "subslide"
    }
   },
   "source": [
    "## Constrained Minimum Cycle Weight\n",
    "\n",
    "**The process returns (at most) one cycle per root node and per non-zero weight**\n",
    "\n",
    "For our example graph, we have:"
   ]
  },
  {
   "cell_type": "code",
   "execution_count": 17,
   "metadata": {},
   "outputs": [
    {
     "name": "stdout",
     "output_type": "stream",
     "text": [
      "[{0, 3}, {0, 7}, {0, 1, 3, 7}, {1, 3}, {1, 7}, {8, 1, 3, 7}, {8, 3}, {5, 6}, {8, 7}]\n",
      "[0.0, 0.0, 0.0, 0.0, 0.0, 0.0, 0.0, 0.0, 0.0]\n"
     ]
    }
   ],
   "source": [
    "weights = -np.ones(len(pairs)) + duals\n",
    "scl, sct = util.shortest_cycles(aplus, weights, max_len=4)\n",
    "print(scl)\n",
    "print(sct)"
   ]
  },
  {
   "cell_type": "markdown",
   "metadata": {},
   "source": [
    "* All shortest cycles have non-negative reduced costs\n",
    "* This is expected since the dual multiplier refer to an optimal solution"
   ]
  },
  {
   "cell_type": "markdown",
   "metadata": {
    "slideshow": {
     "slide_type": "subslide"
    }
   },
   "source": [
    "## Constrained Minimum Cycle Weight\n",
    "\n",
    "**Formulating pricing as optimization can be very beneficial**\n",
    "\n",
    "In our case, we get a _massive speed improvement_ w.r.t. enumeration:"
   ]
  },
  {
   "cell_type": "code",
   "execution_count": 30,
   "metadata": {},
   "outputs": [
    {
     "name": "stdout",
     "output_type": "stream",
     "text": [
      "CPU times: user 6.22 s, sys: 1.1 ms, total: 6.22 s\n",
      "Wall time: 6.23 s\n"
     ]
    }
   ],
   "source": [
    "pairs, arcs, aplus = util.generate_compatibility_graph(size=150, seed=2)\n",
    "%time cycles = util.find_all_cycles(aplus, max_length=4, cap=None)"
   ]
  },
  {
   "cell_type": "code",
   "execution_count": 31,
   "metadata": {},
   "outputs": [
    {
     "name": "stdout",
     "output_type": "stream",
     "text": [
      "CPU times: user 75.4 ms, sys: 0 ns, total: 75.4 ms\n",
      "Wall time: 75.1 ms\n"
     ]
    }
   ],
   "source": [
    "%time cycles2, _ = util.shortest_cycles(aplus, weights=-np.ones(len(pairs)), max_len=4)"
   ]
  },
  {
   "cell_type": "markdown",
   "metadata": {
    "slideshow": {
     "slide_type": "subslide"
    }
   },
   "source": [
    "## Column Generation\n",
    "\n",
    "**We can now inspect the column generation method itself**\n",
    "\n",
    "```python\n",
    "def cycle_formulation_cg(pairs, aplus, max_len, itcap=10, tol=1e-3, verbose=1):\n",
    "    weights = -np.ones(len(pairs)) # initial cycle pool\n",
    "    cycles, _ = er.shortest_cycles(aplus, weights, max_len=max_len)\n",
    "    converged = False # main loop\n",
    "    for itn in range(itcap):\n",
    "        sol, stime, duals = er.cycle_formulation(pairs, cycles, verbose=0, relaxation=True)\n",
    "        if verbose > 0: ...\n",
    "        weights = -np.ones(len(pairs)) + duals # shortest paths\n",
    "        scl, sct = er.shortest_cycles(aplus, weights, max_len=max_len)\n",
    "        nrc_cycles = [scl[i] for i, c in enumerate(sct) if c < -tol] # negative r.c.\n",
    "        if verbose > 0: ...\n",
    "        if len(nrc_cycles) == 0: # no improvement possible\n",
    "            converged = True\n",
    "            break\n",
    "        else: cycles += nrc_cycles # add new arcs\n",
    "    return cycles, converged\n",
    "```"
   ]
  },
  {
   "cell_type": "markdown",
   "metadata": {
    "slideshow": {
     "slide_type": "subslide"
    }
   },
   "source": [
    "## Column Generation\n",
    "\n",
    "**The initial pool of variables corresponds to all shortest cycles**\n",
    "\n",
    "```python\n",
    "def cycle_formulation_cg(pairs, aplus, max_len, itcap=10, tol=1e-3, verbose=1):\n",
    "    weights = -np.ones(len(pairs)) # initial cycle pool\n",
    "    cycles, _ = er.shortest_cycles(aplus, weights, max_len=max_len)\n",
    "```\n",
    "\n",
    "* The cycle weight is just the number of nodes\n",
    "\n",
    "**Then we start the main loop**\n",
    "\n",
    "```python\n",
    "def cycle_formulation_cg(pairs, aplus, max_len, itcap=10, tol=1e-3, verbose=1):\n",
    "    ...\n",
    "    converged = False # main loop\n",
    "    for itn in range(itcap):\n",
    "        ...\n",
    "    return cycles, converged\n",
    "```\n",
    "\n",
    "* At the end we return the optimized cycle pool, plus convergence flag"
   ]
  },
  {
   "cell_type": "markdown",
   "metadata": {
    "slideshow": {
     "slide_type": "subslide"
    }
   },
   "source": [
    "## Column Generation\n",
    "\n",
    "**At each iteration, we solve the LP relaxation**\n",
    "\n",
    "```python\n",
    "def cycle_formulation_cg(pairs, aplus, max_len, itcap=10, tol=1e-3, verbose=1):\n",
    "    ...\n",
    "    for itn in range(itcap):\n",
    "        sol, stime, duals = er.cycle_formulation(pairs, cycles, verbose=0, relaxation=True)\n",
    "        if verbose > 0: ...\n",
    "```\n",
    "\n",
    "**Then we find all shortest cycles**\n",
    "\n",
    "```python\n",
    "def cycle_formulation_cg(pairs, aplus, max_len, itcap=10, tol=1e-3, verbose=1):\n",
    "    ...\n",
    "    for itn in range(itcap):\n",
    "        ...\n",
    "        weights = -np.ones(len(pairs)) + duals # shortest paths\n",
    "        scl, sct = er.shortest_cycles(aplus, weights, max_len=max_len)\n",
    "        ...\n",
    "```"
   ]
  },
  {
   "cell_type": "markdown",
   "metadata": {
    "slideshow": {
     "slide_type": "subslide"
    }
   },
   "source": [
    "## Column Generation\n",
    "\n",
    "**Then we detect the cycles with negative reduced costs**\n",
    "\n",
    "```python\n",
    "def cycle_formulation_cg(pairs, aplus, max_len, itcap=10, tol=1e-3, verbose=1):\n",
    "    ...\n",
    "    for itn in range(itcap):\n",
    "        ...\n",
    "        nrc_cycles = [scl[i] for i, c in enumerate(sct) if c < -tol] # negative r.c.\n",
    "        if verbose > 0: ...\n",
    "        if len(nrc_cycles) == 0: # no improvement possible\n",
    "            converged = True\n",
    "            break\n",
    "        else: cycles += nrc_cycles # add new arcs\n",
    "```\n",
    "\n",
    "* LP solvers operate withing _tolerances_, so it's a good idea to use one\n",
    "* We also _add multiple columns_ at every iteration\n",
    "* This is usually a good idea, since it reduces iteration overhead"
   ]
  },
  {
   "cell_type": "markdown",
   "metadata": {
    "slideshow": {
     "slide_type": "subslide"
    }
   },
   "source": [
    "## Column Generation - Correctness\n",
    "\n",
    "**It's time to test the approach. We will initially focus on correctness**\n",
    "\n",
    "We generate a graph:"
   ]
  },
  {
   "cell_type": "code",
   "execution_count": 33,
   "metadata": {},
   "outputs": [],
   "source": [
    "pairs, arcs, aplus = util.generate_compatibility_graph(size=100, seed=2)"
   ]
  },
  {
   "cell_type": "markdown",
   "metadata": {},
   "source": [
    "Then we solve the GC formulation:"
   ]
  },
  {
   "cell_type": "code",
   "execution_count": 37,
   "metadata": {},
   "outputs": [
    {
     "name": "stdout",
     "output_type": "stream",
     "text": [
      "(CG, it. 0), #cycles: 839, time: 0.02, relaxation objective: -36.00\n",
      "(CG, it. 0), #cycles with negative reduced cost: 0\n"
     ]
    }
   ],
   "source": [
    "cycles_cg, _  = util.cycle_formulation_cg(pairs, aplus, max_len=4, itcap=10)"
   ]
  },
  {
   "cell_type": "markdown",
   "metadata": {},
   "source": [
    "And we compare it with the approach based on full enumeration:"
   ]
  },
  {
   "cell_type": "code",
   "execution_count": 38,
   "metadata": {},
   "outputs": [
    {
     "name": "stdout",
     "output_type": "stream",
     "text": [
      "(Full formulation) #cycles: 9890, time: 1.358, relaxation objective: -36.00\n"
     ]
    }
   ],
   "source": [
    "cycles_cf = util.find_all_cycles(aplus, max_length=4, cap=None)\n",
    "sol, stime, duals = util.cycle_formulation(pairs, cycles_cf, tlim=10, verbose=0, relaxation=True)\n",
    "print(f'(Full formulation) #cycles: {len(cycles_cf)}, time: {stime}, relaxation objective: {sol[\"objective\"]:.2f}')"
   ]
  },
  {
   "cell_type": "markdown",
   "metadata": {
    "slideshow": {
     "slide_type": "subslide"
    }
   },
   "source": [
    "## Column Generation - Downstream IP\n",
    "\n",
    "**After we solve the CG formulation, we still _don't have an actual solution_**\n",
    "\n",
    "* We have an optimal solution _of the LP relaxation_\n",
    "* ...Which may violate the integrality constraints"
   ]
  },
  {
   "cell_type": "markdown",
   "metadata": {},
   "source": [
    "**A simple strategy: keep the set of variables and solve the original problem**"
   ]
  },
  {
   "cell_type": "code",
   "execution_count": 40,
   "metadata": {},
   "outputs": [
    {
     "name": "stdout",
     "output_type": "stream",
     "text": [
      "Solution time: 0.033 sec, objective value: 36.0 (optimal)\n"
     ]
    }
   ],
   "source": [
    "sol, tme, _ = util.cycle_formulation(pairs, cycles_cg, tlim=30, verbose=1)"
   ]
  },
  {
   "cell_type": "markdown",
   "metadata": {},
   "source": [
    "This one is guaranteed optimal _only if the LP-IP gap is zero_ (as in our case)\n",
    "\n",
    "* Otherwise, in principle we should start branching (Branch & Price)\n",
    "* In practice, we are usually happy with this two-phase approach\n",
    "\n",
    "Just make sure that your Master Problem yeilds a good bound!"
   ]
  },
  {
   "cell_type": "markdown",
   "metadata": {
    "slideshow": {
     "slide_type": "subslide"
    }
   },
   "source": [
    "## Column Generation - Scalability\n",
    "\n",
    "**Now we will quickly test the method scalability**\n",
    "\n",
    "Let's try with 300 and 600 pairs:"
   ]
  },
  {
   "cell_type": "code",
   "execution_count": 41,
   "metadata": {},
   "outputs": [
    {
     "name": "stdout",
     "output_type": "stream",
     "text": [
      "(CG, it. 0), #cycles: 8906, time: 0.283, relaxation objective: -122.00\n",
      "(CG, it. 0), #cycles with negative reduced cost: 0\n",
      "Solution time: 0.509 sec, objective value: 122.0 (optimal)\n",
      "CPU times: user 1.83 s, sys: 19.9 ms, total: 1.85 s\n",
      "Wall time: 1.85 s\n"
     ]
    }
   ],
   "source": [
    "%%time\n",
    "pairs2, arcs2, aplus2 = util.generate_compatibility_graph(size=300, seed=2)\n",
    "cycles_cg2, _  = util.cycle_formulation_cg(pairs2, aplus2, max_len=4, itcap=10)\n",
    "_, _, _ = util.cycle_formulation(pairs2, cycles_cg2, tlim=30, verbose=1)"
   ]
  },
  {
   "cell_type": "code",
   "execution_count": 44,
   "metadata": {},
   "outputs": [
    {
     "name": "stdout",
     "output_type": "stream",
     "text": [
      "(CG, it. 0), #cycles: 31010, time: 1.021, relaxation objective: -229.00\n",
      "(CG, it. 0), #cycles with negative reduced cost: 0\n",
      "Solution time: 1.456 sec, objective value: 229.0 (optimal)\n",
      "CPU times: user 9.37 s, sys: 49.3 ms, total: 9.42 s\n",
      "Wall time: 9.43 s\n"
     ]
    }
   ],
   "source": [
    "%%time\n",
    "pairs3, arcs3, aplus3 = util.generate_compatibility_graph(size=600, seed=2)\n",
    "cycles_cg3, _  = util.cycle_formulation_cg(pairs3, aplus3, max_len=4, itcap=10)\n",
    "_, _, _ = util.cycle_formulation(pairs3, cycles_cg3, tlim=30, verbose=1)"
   ]
  },
  {
   "cell_type": "markdown",
   "metadata": {
    "slideshow": {
     "slide_type": "subslide"
    }
   },
   "source": [
    "## Considerations\n",
    "\n",
    "**Column generation is not an easy technique**\n",
    "\n",
    "...But when it works, it works _very_ well\n",
    "\n",
    "* The trick is finding a clean Master Problem formulation\n",
    "* ...By including constraints as _part of the variable definition_\n",
    "* In short: a clean problem with super-complicated variables"
   ]
  },
  {
   "cell_type": "markdown",
   "metadata": {},
   "source": [
    "**There's no need to solve the pricing problem via dedicated methods**\n",
    "\n",
    "* We can use Linear Programming, MILP, or even SMT or CP\n",
    "* The pricing problem can even be NP-hard\n",
    "* ...We just needt it to be easy solve for the scale we need"
   ]
  }
 ],
 "metadata": {
  "celltoolbar": "Slideshow",
  "kernelspec": {
   "display_name": "Python 3 (ipykernel)",
   "language": "python",
   "name": "python3"
  },
  "language_info": {
   "codemirror_mode": {
    "name": "ipython",
    "version": 3
   },
   "file_extension": ".py",
   "mimetype": "text/x-python",
   "name": "python",
   "nbconvert_exporter": "python",
   "pygments_lexer": "ipython3",
   "version": "3.11.6"
  },
  "rise": {
   "center": false,
   "enable_chalkboard": true,
   "transition": "fade"
  }
 },
 "nbformat": 4,
 "nbformat_minor": 4
}
